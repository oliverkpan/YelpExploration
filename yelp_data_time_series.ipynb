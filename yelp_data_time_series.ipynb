{
 "cells": [
  {
   "cell_type": "markdown",
   "metadata": {},
   "source": [
    "# Analysing when businesses are re-opening during COVID\n",
    "\n",
    "### Pre-processing Data"
   ]
  },
  {
   "cell_type": "code",
   "execution_count": 104,
   "metadata": {},
   "outputs": [],
   "source": [
    "#Import libraries\n",
    "import pandas as pd\n",
    "import matplotlib.pyplot as plt\n",
    "import numpy as np\n",
    "import seaborn as sns"
   ]
  },
  {
   "cell_type": "code",
   "execution_count": 105,
   "metadata": {},
   "outputs": [],
   "source": [
    "#Import data and analyze\n",
    "data = r'/Users/OliverPan/Desktop/yelp_covid/yelp_covid.json'"
   ]
  },
  {
   "cell_type": "code",
   "execution_count": 106,
   "metadata": {},
   "outputs": [],
   "source": [
    "yelp_df = pd.read_json(data, lines = True)"
   ]
  },
  {
   "cell_type": "code",
   "execution_count": 107,
   "metadata": {},
   "outputs": [],
   "source": [
    "#Lastly, we can rename the columns\n",
    "yelp_df.columns = [\"id\", \"highlights\", \"d/t\", \"grub\", \"cta\", \"raq\", \"covid_banner\", \"closed_until\", \"services\"]"
   ]
  },
  {
   "cell_type": "markdown",
   "metadata": {},
   "source": [
    "### Analyse Time Series Column"
   ]
  },
  {
   "cell_type": "code",
   "execution_count": 108,
   "metadata": {},
   "outputs": [],
   "source": [
    "#We only need the business ID and date that they are closed until\n",
    "ts = yelp_df[[\"id\", \"closed_until\"]]"
   ]
  },
  {
   "cell_type": "code",
   "execution_count": 109,
   "metadata": {},
   "outputs": [
    {
     "data": {
      "text/plain": [
       "FALSE                       208414\n",
       "2020-07-01T00:00:00.000Z       331\n",
       "2020-06-15T00:00:00.000Z       263\n",
       "2020-06-30T00:00:00.000Z       172\n",
       "2020-08-01T00:00:00.000Z       133\n",
       "                             ...  \n",
       "2021-05-27T00:00:00.000Z         1\n",
       "2021-03-10T00:00:00.000Z         1\n",
       "2020-10-31T00:00:00.000Z         1\n",
       "2024-06-14T00:00:00.000Z         1\n",
       "2021-06-22T00:00:00.000Z         1\n",
       "Name: closed_until, Length: 89, dtype: int64"
      ]
     },
     "execution_count": 109,
     "metadata": {},
     "output_type": "execute_result"
    }
   ],
   "source": [
    "ts[\"closed_until\"].value_counts()"
   ]
  },
  {
   "cell_type": "code",
   "execution_count": 110,
   "metadata": {},
   "outputs": [],
   "source": [
    "#Filter out \"FALSE\"\n",
    "ts = ts[ts[\"closed_until\"] != 'FALSE']"
   ]
  },
  {
   "cell_type": "code",
   "execution_count": 111,
   "metadata": {},
   "outputs": [],
   "source": [
    "#Change to datetime\n",
    "ts[\"closed_until\"] = pd.to_datetime(ts[\"closed_until\"])"
   ]
  },
  {
   "cell_type": "code",
   "execution_count": 112,
   "metadata": {},
   "outputs": [],
   "source": [
    "#Create a column that is just 1, so we can sum it up after\n",
    "ts[\"sum\"] = np.ones(len(ts)).astype(int)"
   ]
  },
  {
   "cell_type": "code",
   "execution_count": 113,
   "metadata": {},
   "outputs": [
    {
     "data": {
      "text/html": [
       "<div>\n",
       "<style scoped>\n",
       "    .dataframe tbody tr th:only-of-type {\n",
       "        vertical-align: middle;\n",
       "    }\n",
       "\n",
       "    .dataframe tbody tr th {\n",
       "        vertical-align: top;\n",
       "    }\n",
       "\n",
       "    .dataframe thead th {\n",
       "        text-align: right;\n",
       "    }\n",
       "</style>\n",
       "<table border=\"1\" class=\"dataframe\">\n",
       "  <thead>\n",
       "    <tr style=\"text-align: right;\">\n",
       "      <th></th>\n",
       "      <th>id</th>\n",
       "      <th>closed_until</th>\n",
       "      <th>sum</th>\n",
       "    </tr>\n",
       "  </thead>\n",
       "  <tbody>\n",
       "    <tr>\n",
       "      <th>446</th>\n",
       "      <td>XwhDBNra9t3lgk1JdYlUOQ</td>\n",
       "      <td>2020-09-01 00:00:00+00:00</td>\n",
       "      <td>1</td>\n",
       "    </tr>\n",
       "    <tr>\n",
       "      <th>578</th>\n",
       "      <td>OpYRONhMuwcWx6kcG-MrFw</td>\n",
       "      <td>2020-06-30 00:00:00+00:00</td>\n",
       "      <td>1</td>\n",
       "    </tr>\n",
       "    <tr>\n",
       "      <th>1088</th>\n",
       "      <td>njibVlsPhZ9HKTAz0C3QgA</td>\n",
       "      <td>2020-06-15 00:00:00+00:00</td>\n",
       "      <td>1</td>\n",
       "    </tr>\n",
       "    <tr>\n",
       "      <th>1142</th>\n",
       "      <td>CyBz3mKH5D0PgZr9djNqPQ</td>\n",
       "      <td>2020-07-01 00:00:00+00:00</td>\n",
       "      <td>1</td>\n",
       "    </tr>\n",
       "    <tr>\n",
       "      <th>1624</th>\n",
       "      <td>1-8uoxuNCdaHlfPneJrusA</td>\n",
       "      <td>2021-01-01 00:00:00+00:00</td>\n",
       "      <td>1</td>\n",
       "    </tr>\n",
       "  </tbody>\n",
       "</table>\n",
       "</div>"
      ],
      "text/plain": [
       "                          id              closed_until  sum\n",
       "446   XwhDBNra9t3lgk1JdYlUOQ 2020-09-01 00:00:00+00:00    1\n",
       "578   OpYRONhMuwcWx6kcG-MrFw 2020-06-30 00:00:00+00:00    1\n",
       "1088  njibVlsPhZ9HKTAz0C3QgA 2020-06-15 00:00:00+00:00    1\n",
       "1142  CyBz3mKH5D0PgZr9djNqPQ 2020-07-01 00:00:00+00:00    1\n",
       "1624  1-8uoxuNCdaHlfPneJrusA 2021-01-01 00:00:00+00:00    1"
      ]
     },
     "execution_count": 113,
     "metadata": {},
     "output_type": "execute_result"
    }
   ],
   "source": [
    "ts.head()"
   ]
  },
  {
   "cell_type": "code",
   "execution_count": 114,
   "metadata": {},
   "outputs": [],
   "source": [
    "#Group by week, and sum the opening dates\n",
    "ts = ts.groupby(pd.Grouper(key=\"closed_until\", freq='W-SUN'))[\"sum\"].sum().to_frame().reset_index()"
   ]
  },
  {
   "cell_type": "code",
   "execution_count": 115,
   "metadata": {},
   "outputs": [],
   "source": [
    "ts = ts.set_index([\"closed_until\"])"
   ]
  },
  {
   "cell_type": "code",
   "execution_count": 116,
   "metadata": {},
   "outputs": [
    {
     "data": {
      "text/plain": [
       "Text(0, 0.5, 'Number of businesses opening')"
      ]
     },
     "execution_count": 116,
     "metadata": {},
     "output_type": "execute_result"
    },
    {
     "data": {
      "image/png": "[encoded data removed]",
      "text/plain": [
       "<Figure size 720x504 with 1 Axes>"
      ]
     },
     "metadata": {
      "needs_background": "light"
     },
     "output_type": "display_data"
    }
   ],
   "source": [
    "#Plot from 2020-2030\n",
    "plt.figure(figsize=(10,7))\n",
    "plt.plot(ts)\n",
    "plt.title(\"Businesses opening over time from 2020 to 2030\")\n",
    "plt.xlabel(\"Year Opening\")\n",
    "plt.ylabel(\"Number of businesses opening\")"
   ]
  },
  {
   "cell_type": "markdown",
   "metadata": {},
   "source": [
    "### 2020 - 2021"
   ]
  },
  {
   "cell_type": "code",
   "execution_count": 118,
   "metadata": {},
   "outputs": [],
   "source": [
    "#Let us just look at 2020 to 2021, to see when restaurants are planning to open again\n",
    "ts = ts.reset_index()\n",
    "ts = ts[ts[\"closed_until\"] < \"2022-01-01\"]"
   ]
  },
  {
   "cell_type": "code",
   "execution_count": 119,
   "metadata": {},
   "outputs": [],
   "source": [
    "ts = ts.set_index([\"closed_until\"])"
   ]
  },
  {
   "cell_type": "code",
   "execution_count": 120,
   "metadata": {},
   "outputs": [
    {
     "data": {
      "text/plain": [
       "Text(0, 0.5, 'Number of businesses opening')"
      ]
     },
     "execution_count": 120,
     "metadata": {},
     "output_type": "execute_result"
    },
    {
     "data": {
      "image/png": "[encoded data removed]",
      "text/plain": [
       "<Figure size 720x504 with 1 Axes>"
      ]
     },
     "metadata": {
      "needs_background": "light"
     },
     "output_type": "display_data"
    }
   ],
   "source": [
    "#Plot from 2020-2021\n",
    "plt.figure(figsize=(10,7))\n",
    "plt.plot(ts)\n",
    "plt.title(\"Businesses opening over time from 2020 to 2021\")\n",
    "plt.xlabel(\"Year Opening\")\n",
    "plt.ylabel(\"Number of businesses opening\")"
   ]
  },
  {
   "cell_type": "markdown",
   "metadata": {},
   "source": [
    "#### We can validate that this data is correct; it is intuitive that number drops off over time"
   ]
  },
  {
   "cell_type": "code",
   "execution_count": null,
   "metadata": {},
   "outputs": [],
   "source": []
  }
 ],
 "metadata": {
  "kernelspec": {
   "display_name": "Python 3",
   "language": "python",
   "name": "python3"
  },
  "language_info": {
   "codemirror_mode": {
    "name": "ipython",
    "version": 3
   },
   "file_extension": ".py",
   "mimetype": "text/x-python",
   "name": "python",
   "nbconvert_exporter": "python",
   "pygments_lexer": "ipython3",
   "version": "3.7.6"
  }
 },
 "nbformat": 4,
 "nbformat_minor": 4
}
